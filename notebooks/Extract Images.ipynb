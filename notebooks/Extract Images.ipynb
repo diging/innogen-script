{
 "cells": [
  {
   "cell_type": "code",
   "execution_count": 506,
   "id": "3291c3e3",
   "metadata": {},
   "outputs": [],
   "source": [
    "import cv2 as cv\n",
    "import os\n",
    "from argparse import ArgumentParser\n"
   ]
  },
  {
   "cell_type": "code",
   "execution_count": 498,
   "id": "0cf9eae8",
   "metadata": {},
   "outputs": [],
   "source": [
    "# read imaged\n",
    "folder = 'Bibby_1931-p4'\n",
    "if not os.path.exists(folder):\n",
    "    os.mkdir(folder)\n",
    "filename = 'Bibby_1931-p4.jpg'\n",
    "img = cv.imread('../testing/' + filename)"
   ]
  },
  {
   "cell_type": "code",
   "execution_count": 499,
   "id": "fd3331fd",
   "metadata": {},
   "outputs": [
    {
     "data": {
      "text/plain": [
       "True"
      ]
     },
     "execution_count": 499,
     "metadata": {},
     "output_type": "execute_result"
    }
   ],
   "source": [
    "# convert image to grey\n",
    "grey_image = cv.cvtColor(img, cv.COLOR_BGR2GRAY )\n",
    "cv.imwrite(folder + \"/01-greyscale.jpg\", grey_image)"
   ]
  },
  {
   "cell_type": "code",
   "execution_count": 500,
   "id": "b0be7cf1",
   "metadata": {},
   "outputs": [
    {
     "data": {
      "text/plain": [
       "True"
      ]
     },
     "execution_count": 500,
     "metadata": {},
     "output_type": "execute_result"
    }
   ],
   "source": [
    "# dilate and write into grey_image\n",
    "kernel = cv.getStructuringElement(cv.MORPH_RECT,(15,15))\n",
    "cv.dilate(grey_image, kernel, grey_image)\n",
    "cv.imwrite(folder + \"/02-dilated.jpg\", grey_image)"
   ]
  },
  {
   "cell_type": "code",
   "execution_count": 501,
   "id": "d911ed45",
   "metadata": {},
   "outputs": [
    {
     "data": {
      "text/plain": [
       "True"
      ]
     },
     "execution_count": 501,
     "metadata": {},
     "output_type": "execute_result"
    }
   ],
   "source": [
    "# change white to black and invert\n",
    "ret1,dst = cv.threshold(grey_image, 240, 255, cv.THRESH_TOZERO)\n",
    "ret1,dst = cv.threshold(dst, 240, 255, cv.THRESH_BINARY_INV)\n",
    "cv.imwrite(folder + \"/03-inverted.jpg\", dst)"
   ]
  },
  {
   "cell_type": "code",
   "execution_count": 502,
   "id": "8a6a72e4",
   "metadata": {},
   "outputs": [
    {
     "data": {
      "text/plain": [
       "True"
      ]
     },
     "execution_count": 502,
     "metadata": {},
     "output_type": "execute_result"
    }
   ],
   "source": [
    "#try to fill images rectangles and remove noise\n",
    "kernel = cv.getStructuringElement(cv.MORPH_RECT,(20,20))\n",
    "\n",
    "gradient = cv2.morphologyEx(dst, cv2.MORPH_CLOSE, kernel)\n",
    "grad_img = cv2.morphologyEx(gradient, cv2.MORPH_OPEN, kernel)\n",
    "cv.imwrite(folder + \"/04-morphed.jpg\", grad_img)"
   ]
  },
  {
   "cell_type": "code",
   "execution_count": 503,
   "id": "d33c164a",
   "metadata": {},
   "outputs": [],
   "source": [
    "# find contours\n",
    "contours, hierachy = cv.findContours(grad_img, cv.RETR_EXTERNAL, cv.CHAIN_APPROX_SIMPLE)"
   ]
  },
  {
   "cell_type": "code",
   "execution_count": 504,
   "id": "876369f5",
   "metadata": {},
   "outputs": [
    {
     "name": "stdout",
     "output_type": "stream",
     "text": [
      "380.0\n",
      "361.0\n",
      "337376.0\n",
      "362873.5\n",
      "665.0\n",
      "140503.5\n",
      "197972.0\n",
      "400.0\n",
      "1007.0\n",
      "494.0\n",
      "828751.0\n"
     ]
    },
    {
     "data": {
      "text/plain": [
       "True"
      ]
     },
     "execution_count": 504,
     "metadata": {},
     "output_type": "execute_result"
    }
   ],
   "source": [
    "# draw contours with rectangle\n",
    "img_with_cont = grad_img\n",
    "\n",
    "for j in range(len(contours)):\n",
    "    area = cv.contourArea(contours[j])\n",
    "    print(area)\n",
    "    if area > 5000:\n",
    "        x,y,w,h = cv.boundingRect(contours[j])\n",
    "        cropped = img[y:y+h, x:x+w]\n",
    "        cv.imwrite(folder + \"/07-copped-bb-\" + str(j) + \".jpg\", cropped)\n",
    "        cv.rectangle(img_with_cont, (x, y), (x + w, y + h), (161,155,86), 5)\n",
    "        #img_with_cont = cv.drawContours(img_with_cont, contours, j, [161,155,86], thickness=5)\n",
    "cv.imwrite(folder + \"/05-img_with_cont.jpg\", img_with_cont)"
   ]
  },
  {
   "cell_type": "code",
   "execution_count": 505,
   "id": "9cf07197",
   "metadata": {},
   "outputs": [
    {
     "data": {
      "text/plain": [
       "True"
      ]
     },
     "execution_count": 505,
     "metadata": {},
     "output_type": "execute_result"
    }
   ],
   "source": [
    "# draw contours with poly\n",
    "img_with_cont = grad_img\n",
    "\n",
    "for j in range(len(contours)):\n",
    "    cnt = contours[j]\n",
    "    area = cv.contourArea(cnt)\n",
    "    if area > 5000:\n",
    "        epsilon = 0.15*cv.arcLength(cnt,True)\n",
    "        approx = cv.approxPolyDP(cnt,epsilon,True)\n",
    "        x,y,w,h = cv.boundingRect(approx)\n",
    "        cropped = img[y:y+h, x:x+w]\n",
    "        cv.imwrite(folder + \"/07-copped-\" + str(j) + \".jpg\", cropped)\n",
    "        \n",
    "        img_with_cont = cv.drawContours(img_with_cont, [approx],0, [161,155,86], thickness=5)\n",
    "cv.imwrite(folder + \"/06-img_with_approx.jpg\", img_with_cont)"
   ]
  },
  {
   "cell_type": "code",
   "execution_count": null,
   "id": "c117f00c",
   "metadata": {},
   "outputs": [],
   "source": []
  }
 ],
 "metadata": {
  "kernelspec": {
   "display_name": "Python 3 (ipykernel)",
   "language": "python",
   "name": "python3"
  },
  "language_info": {
   "codemirror_mode": {
    "name": "ipython",
    "version": 3
   },
   "file_extension": ".py",
   "mimetype": "text/x-python",
   "name": "python",
   "nbconvert_exporter": "python",
   "pygments_lexer": "ipython3",
   "version": "3.10.8"
  }
 },
 "nbformat": 4,
 "nbformat_minor": 5
}
